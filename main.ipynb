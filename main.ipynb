{
 "cells": [
  {
   "cell_type": "markdown",
   "id": "5d132cf5",
   "metadata": {},
   "source": [
    "### Objective\n",
    "I will cleaning and exploring this dataset using pandas. It will be visualised using matplotlib. Afterwards, I'll hypothesise the relationship and trends of this data. This dataset is obtained via [kaggle.com](https://www.kaggle.com/datasets/bharatnatrayn/movies-dataset-for-feature-extracion-prediction/data).\n"
   ]
  },
  {
   "cell_type": "markdown",
   "id": "b21d530c",
   "metadata": {},
   "source": [
    "#### Importing Libraries"
   ]
  },
  {
   "cell_type": "code",
   "execution_count": 316,
   "id": "75a59d82",
   "metadata": {},
   "outputs": [],
   "source": [
    "import pandas as pd\n",
    "from IPython.display import display\n",
    "import matplotlib as plt"
   ]
  },
  {
   "cell_type": "markdown",
   "id": "d7042f18",
   "metadata": {},
   "source": [
    "#### Import Raw Dataset"
   ]
  },
  {
   "cell_type": "code",
   "execution_count": 317,
   "id": "095f8121",
   "metadata": {},
   "outputs": [
    {
     "data": {
      "text/html": [
       "<div>\n",
       "<style scoped>\n",
       "    .dataframe tbody tr th:only-of-type {\n",
       "        vertical-align: middle;\n",
       "    }\n",
       "\n",
       "    .dataframe tbody tr th {\n",
       "        vertical-align: top;\n",
       "    }\n",
       "\n",
       "    .dataframe thead th {\n",
       "        text-align: right;\n",
       "    }\n",
       "</style>\n",
       "<table border=\"1\" class=\"dataframe\">\n",
       "  <thead>\n",
       "    <tr style=\"text-align: right;\">\n",
       "      <th></th>\n",
       "      <th>MOVIES</th>\n",
       "      <th>YEAR</th>\n",
       "      <th>GENRE</th>\n",
       "      <th>RATING</th>\n",
       "      <th>ONE-LINE</th>\n",
       "      <th>STARS</th>\n",
       "      <th>VOTES</th>\n",
       "      <th>RunTime</th>\n",
       "      <th>Gross</th>\n",
       "    </tr>\n",
       "  </thead>\n",
       "  <tbody>\n",
       "    <tr>\n",
       "      <th>0</th>\n",
       "      <td>Blood Red Sky</td>\n",
       "      <td>(2021)</td>\n",
       "      <td>\\r\\nAction, Horror, Thriller</td>\n",
       "      <td>6.1</td>\n",
       "      <td>\\r\\nA woman with a mysterious illness is force...</td>\n",
       "      <td>\\r\\n    Director:\\r\\nPeter Thorwarth\\r\\n| \\r\\n...</td>\n",
       "      <td>21,062</td>\n",
       "      <td>121.0</td>\n",
       "      <td>NaN</td>\n",
       "    </tr>\n",
       "    <tr>\n",
       "      <th>1</th>\n",
       "      <td>Masters of the Universe: Revelation</td>\n",
       "      <td>(2021– )</td>\n",
       "      <td>\\r\\nAnimation, Action, Adventure</td>\n",
       "      <td>5.0</td>\n",
       "      <td>\\r\\nThe war for Eternia begins again in what m...</td>\n",
       "      <td>\\r\\n            \\r\\n    Stars:\\r\\nChris Wood, ...</td>\n",
       "      <td>17,870</td>\n",
       "      <td>25.0</td>\n",
       "      <td>NaN</td>\n",
       "    </tr>\n",
       "    <tr>\n",
       "      <th>2</th>\n",
       "      <td>The Walking Dead</td>\n",
       "      <td>(2010–2022)</td>\n",
       "      <td>\\r\\nDrama, Horror, Thriller</td>\n",
       "      <td>8.2</td>\n",
       "      <td>\\r\\nSheriff Deputy Rick Grimes wakes up from a...</td>\n",
       "      <td>\\r\\n            \\r\\n    Stars:\\r\\nAndrew Linco...</td>\n",
       "      <td>885,805</td>\n",
       "      <td>44.0</td>\n",
       "      <td>NaN</td>\n",
       "    </tr>\n",
       "    <tr>\n",
       "      <th>3</th>\n",
       "      <td>Rick and Morty</td>\n",
       "      <td>(2013– )</td>\n",
       "      <td>\\r\\nAnimation, Adventure, Comedy</td>\n",
       "      <td>9.2</td>\n",
       "      <td>\\r\\nAn animated series that follows the exploi...</td>\n",
       "      <td>\\r\\n            \\r\\n    Stars:\\r\\nJustin Roila...</td>\n",
       "      <td>414,849</td>\n",
       "      <td>23.0</td>\n",
       "      <td>NaN</td>\n",
       "    </tr>\n",
       "    <tr>\n",
       "      <th>4</th>\n",
       "      <td>Army of Thieves</td>\n",
       "      <td>(2021)</td>\n",
       "      <td>\\r\\nAction, Crime, Horror</td>\n",
       "      <td>NaN</td>\n",
       "      <td>\\r\\nA prequel, set before the events of Army o...</td>\n",
       "      <td>\\r\\n    Director:\\r\\nMatthias Schweighöfer\\r\\n...</td>\n",
       "      <td>NaN</td>\n",
       "      <td>NaN</td>\n",
       "      <td>NaN</td>\n",
       "    </tr>\n",
       "  </tbody>\n",
       "</table>\n",
       "</div>"
      ],
      "text/plain": [
       "                                MOVIES         YEAR  \\\n",
       "0                        Blood Red Sky       (2021)   \n",
       "1  Masters of the Universe: Revelation     (2021– )   \n",
       "2                     The Walking Dead  (2010–2022)   \n",
       "3                       Rick and Morty     (2013– )   \n",
       "4                      Army of Thieves       (2021)   \n",
       "\n",
       "                                          GENRE  RATING  \\\n",
       "0      \\r\\nAction, Horror, Thriller                 6.1   \n",
       "1  \\r\\nAnimation, Action, Adventure                 5.0   \n",
       "2       \\r\\nDrama, Horror, Thriller                 8.2   \n",
       "3  \\r\\nAnimation, Adventure, Comedy                 9.2   \n",
       "4         \\r\\nAction, Crime, Horror                 NaN   \n",
       "\n",
       "                                            ONE-LINE  \\\n",
       "0  \\r\\nA woman with a mysterious illness is force...   \n",
       "1  \\r\\nThe war for Eternia begins again in what m...   \n",
       "2  \\r\\nSheriff Deputy Rick Grimes wakes up from a...   \n",
       "3  \\r\\nAn animated series that follows the exploi...   \n",
       "4  \\r\\nA prequel, set before the events of Army o...   \n",
       "\n",
       "                                               STARS    VOTES  RunTime Gross  \n",
       "0  \\r\\n    Director:\\r\\nPeter Thorwarth\\r\\n| \\r\\n...   21,062    121.0   NaN  \n",
       "1  \\r\\n            \\r\\n    Stars:\\r\\nChris Wood, ...   17,870     25.0   NaN  \n",
       "2  \\r\\n            \\r\\n    Stars:\\r\\nAndrew Linco...  885,805     44.0   NaN  \n",
       "3  \\r\\n            \\r\\n    Stars:\\r\\nJustin Roila...  414,849     23.0   NaN  \n",
       "4  \\r\\n    Director:\\r\\nMatthias Schweighöfer\\r\\n...      NaN      NaN   NaN  "
      ]
     },
     "metadata": {},
     "output_type": "display_data"
    }
   ],
   "source": [
    "df = pd.read_csv('Data/raw_movies.csv')\n",
    "display(df.head())"
   ]
  },
  {
   "cell_type": "markdown",
   "id": "61363085",
   "metadata": {},
   "source": [
    "### Data Inspection"
   ]
  },
  {
   "cell_type": "code",
   "execution_count": 318,
   "id": "1138d7ce",
   "metadata": {},
   "outputs": [
    {
     "name": "stdout",
     "output_type": "stream",
     "text": [
      "<class 'pandas.core.frame.DataFrame'>\n",
      "RangeIndex: 9999 entries, 0 to 9998\n",
      "Data columns (total 9 columns):\n",
      " #   Column    Non-Null Count  Dtype  \n",
      "---  ------    --------------  -----  \n",
      " 0   MOVIES    9999 non-null   object \n",
      " 1   YEAR      9355 non-null   object \n",
      " 2   GENRE     9919 non-null   object \n",
      " 3   RATING    8179 non-null   float64\n",
      " 4   ONE-LINE  9999 non-null   object \n",
      " 5   STARS     9999 non-null   object \n",
      " 6   VOTES     8179 non-null   object \n",
      " 7   RunTime   7041 non-null   float64\n",
      " 8   Gross     460 non-null    object \n",
      "dtypes: float64(2), object(7)\n",
      "memory usage: 703.2+ KB\n"
     ]
    },
    {
     "data": {
      "text/plain": [
       "(9999, 9)"
      ]
     },
     "execution_count": 318,
     "metadata": {},
     "output_type": "execute_result"
    }
   ],
   "source": [
    "df.info()\n",
    "df.shape"
   ]
  },
  {
   "cell_type": "code",
   "execution_count": 319,
   "id": "0a234354",
   "metadata": {},
   "outputs": [
    {
     "data": {
      "text/html": [
       "<div>\n",
       "<style scoped>\n",
       "    .dataframe tbody tr th:only-of-type {\n",
       "        vertical-align: middle;\n",
       "    }\n",
       "\n",
       "    .dataframe tbody tr th {\n",
       "        vertical-align: top;\n",
       "    }\n",
       "\n",
       "    .dataframe thead th {\n",
       "        text-align: right;\n",
       "    }\n",
       "</style>\n",
       "<table border=\"1\" class=\"dataframe\">\n",
       "  <thead>\n",
       "    <tr style=\"text-align: right;\">\n",
       "      <th></th>\n",
       "      <th>RATING</th>\n",
       "      <th>RunTime</th>\n",
       "    </tr>\n",
       "  </thead>\n",
       "  <tbody>\n",
       "    <tr>\n",
       "      <th>count</th>\n",
       "      <td>8179.000000</td>\n",
       "      <td>7041.000000</td>\n",
       "    </tr>\n",
       "    <tr>\n",
       "      <th>mean</th>\n",
       "      <td>6.921176</td>\n",
       "      <td>68.688539</td>\n",
       "    </tr>\n",
       "    <tr>\n",
       "      <th>std</th>\n",
       "      <td>1.220232</td>\n",
       "      <td>47.258056</td>\n",
       "    </tr>\n",
       "    <tr>\n",
       "      <th>min</th>\n",
       "      <td>1.100000</td>\n",
       "      <td>1.000000</td>\n",
       "    </tr>\n",
       "    <tr>\n",
       "      <th>25%</th>\n",
       "      <td>6.200000</td>\n",
       "      <td>36.000000</td>\n",
       "    </tr>\n",
       "    <tr>\n",
       "      <th>50%</th>\n",
       "      <td>7.100000</td>\n",
       "      <td>60.000000</td>\n",
       "    </tr>\n",
       "    <tr>\n",
       "      <th>75%</th>\n",
       "      <td>7.800000</td>\n",
       "      <td>95.000000</td>\n",
       "    </tr>\n",
       "    <tr>\n",
       "      <th>max</th>\n",
       "      <td>9.900000</td>\n",
       "      <td>853.000000</td>\n",
       "    </tr>\n",
       "  </tbody>\n",
       "</table>\n",
       "</div>"
      ],
      "text/plain": [
       "            RATING      RunTime\n",
       "count  8179.000000  7041.000000\n",
       "mean      6.921176    68.688539\n",
       "std       1.220232    47.258056\n",
       "min       1.100000     1.000000\n",
       "25%       6.200000    36.000000\n",
       "50%       7.100000    60.000000\n",
       "75%       7.800000    95.000000\n",
       "max       9.900000   853.000000"
      ]
     },
     "execution_count": 319,
     "metadata": {},
     "output_type": "execute_result"
    }
   ],
   "source": [
    "df.describe()"
   ]
  },
  {
   "cell_type": "code",
   "execution_count": 320,
   "id": "4a6a7687",
   "metadata": {},
   "outputs": [
    {
     "data": {
      "text/plain": [
       "MOVIES         0\n",
       "YEAR         644\n",
       "GENRE         80\n",
       "RATING      1820\n",
       "ONE-LINE       0\n",
       "STARS          0\n",
       "VOTES       1820\n",
       "RunTime     2958\n",
       "Gross       9539\n",
       "dtype: int64"
      ]
     },
     "execution_count": 320,
     "metadata": {},
     "output_type": "execute_result"
    }
   ],
   "source": [
    "df.isnull().sum()"
   ]
  },
  {
   "cell_type": "markdown",
   "id": "db117b3d",
   "metadata": {},
   "source": [
    "#### Observations\n",
    "- There are 9 columns, with 9999 rows\n",
    "- Most columns stores object\n",
    "- RATING, RunTime: float64\n",
    "- Columns w/ NULL: YEAR, GENRE, RATING, VOTES, RunTime, Gross"
   ]
  },
  {
   "cell_type": "markdown",
   "id": "ac848b7d",
   "metadata": {},
   "source": [
    "### Renaming Columns"
   ]
  },
  {
   "cell_type": "code",
   "execution_count": 321,
   "id": "247b557d",
   "metadata": {},
   "outputs": [
    {
     "name": "stdout",
     "output_type": "stream",
     "text": [
      "Index(['Movies', 'Year', 'Genre', 'Rating', 'Short Desc', 'Stars', 'Votes',\n",
      "       'Run Time', 'Gross'],\n",
      "      dtype='object')\n"
     ]
    }
   ],
   "source": [
    "df_col = df.rename(columns=\n",
    "          {'MOVIES': 'Movies', 'YEAR': 'Year',\n",
    "           'GENRE': 'Genre', 'RATING': 'Rating',\n",
    "           'ONE-LINE': 'Short Desc', 'STARS': 'Stars',\n",
    "           'VOTES': 'Votes', 'RunTime': 'Run Time',\n",
    "           'Gross': 'Gross'})\n",
    "print(df_col.columns)"
   ]
  },
  {
   "cell_type": "markdown",
   "id": "7bfd4658",
   "metadata": {},
   "source": [
    "### Removing Duplicates"
   ]
  },
  {
   "cell_type": "code",
   "execution_count": 322,
   "id": "900ea579",
   "metadata": {},
   "outputs": [
    {
     "name": "stdout",
     "output_type": "stream",
     "text": [
      "Duplicates: 431\n"
     ]
    }
   ],
   "source": [
    "print(f'Duplicates: {df_col.duplicated().sum()}')\n",
    "df_dupe = df_col.drop_duplicates()"
   ]
  },
  {
   "cell_type": "markdown",
   "id": "e307e02a",
   "metadata": {},
   "source": [
    "### Fixing Data Types\n",
    "Votes: Remove ',' - convert to integer.\n",
    "\n",
    "Gross: Remove '$' and 'M' - convert to float."
   ]
  },
  {
   "cell_type": "code",
   "execution_count": 323,
   "id": "e5851429",
   "metadata": {},
   "outputs": [],
   "source": [
    "df_dupe.loc[:, 'Votes'] = df_dupe['Votes'].str.replace(',', '').astype(float)\n",
    "df_dupe.loc[:, 'Gross'] = df_dupe['Gross'].str.replace('$', '').str.replace('M', '').astype(float)"
   ]
  },
  {
   "cell_type": "code",
   "execution_count": 324,
   "id": "44870e89",
   "metadata": {},
   "outputs": [
    {
     "name": "stdout",
     "output_type": "stream",
     "text": [
      "<class 'pandas.core.frame.DataFrame'>\n",
      "Index: 9568 entries, 0 to 9998\n",
      "Data columns (total 9 columns):\n",
      " #   Column      Non-Null Count  Dtype  \n",
      "---  ------      --------------  -----  \n",
      " 0   Movies      9568 non-null   object \n",
      " 1   Year        9026 non-null   object \n",
      " 2   Genre       9490 non-null   object \n",
      " 3   Rating      8168 non-null   float64\n",
      " 4   Short Desc  9568 non-null   object \n",
      " 5   Stars       9568 non-null   object \n",
      " 6   Votes       8168 non-null   object \n",
      " 7   Run Time    7008 non-null   float64\n",
      " 8   Gross       460 non-null    object \n",
      "dtypes: float64(2), object(7)\n",
      "memory usage: 747.5+ KB\n"
     ]
    },
    {
     "data": {
      "text/html": [
       "<div>\n",
       "<style scoped>\n",
       "    .dataframe tbody tr th:only-of-type {\n",
       "        vertical-align: middle;\n",
       "    }\n",
       "\n",
       "    .dataframe tbody tr th {\n",
       "        vertical-align: top;\n",
       "    }\n",
       "\n",
       "    .dataframe thead th {\n",
       "        text-align: right;\n",
       "    }\n",
       "</style>\n",
       "<table border=\"1\" class=\"dataframe\">\n",
       "  <thead>\n",
       "    <tr style=\"text-align: right;\">\n",
       "      <th></th>\n",
       "      <th>Movies</th>\n",
       "      <th>Year</th>\n",
       "      <th>Genre</th>\n",
       "      <th>Rating</th>\n",
       "      <th>Short Desc</th>\n",
       "      <th>Stars</th>\n",
       "      <th>Votes</th>\n",
       "      <th>Run Time</th>\n",
       "      <th>Gross</th>\n",
       "    </tr>\n",
       "  </thead>\n",
       "  <tbody>\n",
       "    <tr>\n",
       "      <th>0</th>\n",
       "      <td>Blood Red Sky</td>\n",
       "      <td>(2021)</td>\n",
       "      <td>\\r\\nAction, Horror, Thriller</td>\n",
       "      <td>6.1</td>\n",
       "      <td>\\r\\nA woman with a mysterious illness is force...</td>\n",
       "      <td>\\r\\n    Director:\\r\\nPeter Thorwarth\\r\\n| \\r\\n...</td>\n",
       "      <td>21062.0</td>\n",
       "      <td>121.0</td>\n",
       "      <td>NaN</td>\n",
       "    </tr>\n",
       "    <tr>\n",
       "      <th>1</th>\n",
       "      <td>Masters of the Universe: Revelation</td>\n",
       "      <td>(2021– )</td>\n",
       "      <td>\\r\\nAnimation, Action, Adventure</td>\n",
       "      <td>5.0</td>\n",
       "      <td>\\r\\nThe war for Eternia begins again in what m...</td>\n",
       "      <td>\\r\\n            \\r\\n    Stars:\\r\\nChris Wood, ...</td>\n",
       "      <td>17870.0</td>\n",
       "      <td>25.0</td>\n",
       "      <td>NaN</td>\n",
       "    </tr>\n",
       "    <tr>\n",
       "      <th>2</th>\n",
       "      <td>The Walking Dead</td>\n",
       "      <td>(2010–2022)</td>\n",
       "      <td>\\r\\nDrama, Horror, Thriller</td>\n",
       "      <td>8.2</td>\n",
       "      <td>\\r\\nSheriff Deputy Rick Grimes wakes up from a...</td>\n",
       "      <td>\\r\\n            \\r\\n    Stars:\\r\\nAndrew Linco...</td>\n",
       "      <td>885805.0</td>\n",
       "      <td>44.0</td>\n",
       "      <td>NaN</td>\n",
       "    </tr>\n",
       "  </tbody>\n",
       "</table>\n",
       "</div>"
      ],
      "text/plain": [
       "                                Movies         Year  \\\n",
       "0                        Blood Red Sky       (2021)   \n",
       "1  Masters of the Universe: Revelation     (2021– )   \n",
       "2                     The Walking Dead  (2010–2022)   \n",
       "\n",
       "                                          Genre  Rating  \\\n",
       "0      \\r\\nAction, Horror, Thriller                 6.1   \n",
       "1  \\r\\nAnimation, Action, Adventure                 5.0   \n",
       "2       \\r\\nDrama, Horror, Thriller                 8.2   \n",
       "\n",
       "                                          Short Desc  \\\n",
       "0  \\r\\nA woman with a mysterious illness is force...   \n",
       "1  \\r\\nThe war for Eternia begins again in what m...   \n",
       "2  \\r\\nSheriff Deputy Rick Grimes wakes up from a...   \n",
       "\n",
       "                                               Stars     Votes  Run Time Gross  \n",
       "0  \\r\\n    Director:\\r\\nPeter Thorwarth\\r\\n| \\r\\n...   21062.0     121.0   NaN  \n",
       "1  \\r\\n            \\r\\n    Stars:\\r\\nChris Wood, ...   17870.0      25.0   NaN  \n",
       "2  \\r\\n            \\r\\n    Stars:\\r\\nAndrew Linco...  885805.0      44.0   NaN  "
      ]
     },
     "metadata": {},
     "output_type": "display_data"
    }
   ],
   "source": [
    "df_fix = df_dupe\n",
    "df_fix.info()\n",
    "\n",
    "filtered_df_fix = df_fix[df_fix['Gross'].notnull()]\n",
    "display(df_fix.head(3))"
   ]
  },
  {
   "cell_type": "markdown",
   "id": "b48261f9",
   "metadata": {},
   "source": [
    "### Handling Missing Values\n",
    "Gross & Run Time are the least important to the average viewers. Hence, the rows with missing values for any of these columns will not be removed.\n",
    "\n",
    "Missing Values for Ratings & Votes will be replaced by the mean average for all recorded movies in the dataset.\n",
    "\n",
    "All rows with missing Year will be removed."
   ]
  },
  {
   "cell_type": "code",
   "execution_count": 325,
   "id": "b414ebd8",
   "metadata": {},
   "outputs": [
    {
     "name": "stderr",
     "output_type": "stream",
     "text": [
      "C:\\Users\\frasid\\AppData\\Local\\Temp\\ipykernel_5720\\3510234242.py:6: FutureWarning: Downcasting object dtype arrays on .fillna, .ffill, .bfill is deprecated and will change in a future version. Call result.infer_objects(copy=False) instead. To opt-in to the future behavior, set `pd.set_option('future.no_silent_downcasting', True)`\n",
      "  df_mis.loc[:, 'Votes'] = df_mis['Votes'].fillna(df_mis['Votes'].mean())\n"
     ]
    }
   ],
   "source": [
    "# Drop rows with missing Year\n",
    "df_mis = df_fix.dropna(subset=['Year'])\n",
    "\n",
    "# Fill missing Ratings and Votes with mean\n",
    "df_mis.loc[:, 'Rating'] = df_mis['Rating'].fillna(df_mis['Rating'].mean())\n",
    "df_mis.loc[:, 'Votes'] = df_mis['Votes'].fillna(df_mis['Votes'].mean())"
   ]
  },
  {
   "cell_type": "code",
   "execution_count": 326,
   "id": "2f3ae152",
   "metadata": {},
   "outputs": [
    {
     "name": "stdout",
     "output_type": "stream",
     "text": [
      "<class 'pandas.core.frame.DataFrame'>\n",
      "Index: 9026 entries, 0 to 9998\n",
      "Data columns (total 9 columns):\n",
      " #   Column      Non-Null Count  Dtype  \n",
      "---  ------      --------------  -----  \n",
      " 0   Movies      9026 non-null   object \n",
      " 1   Year        9026 non-null   object \n",
      " 2   Genre       8989 non-null   object \n",
      " 3   Rating      9026 non-null   float64\n",
      " 4   Short Desc  9026 non-null   object \n",
      " 5   Stars       9026 non-null   object \n",
      " 6   Votes       9026 non-null   object \n",
      " 7   Run Time    6987 non-null   float64\n",
      " 8   Gross       460 non-null    object \n",
      "dtypes: float64(2), object(7)\n",
      "memory usage: 705.2+ KB\n"
     ]
    }
   ],
   "source": [
    "df_mis.info()"
   ]
  },
  {
   "cell_type": "markdown",
   "id": "61e157ca",
   "metadata": {},
   "source": [
    "### Formatting Text Data\n",
    "Stars: Format from strings into dictionary:\n",
    "- 'Director' & 'Stars' are keys.\n",
    "- Names are stored in an array.\n",
    "\n",
    "Example: {'Director': ['Person A', ..., 'Person N'], 'Stars': ['Person C', ... , 'Person M']}\n",
    "\n",
    "- Genre: Remove \\r\\n - convert into an array.\n",
    "- Short Desc: Remove \\r\\n.\n",
    "- Rating: Round to 2 decimal place.\n",
    "- Year: Convert into a tuple (StartYear, EndYear)\n",
    "- Split Stars column into two: Director & Stars"
   ]
  },
  {
   "cell_type": "code",
   "execution_count": 327,
   "id": "92dcf8b1",
   "metadata": {},
   "outputs": [],
   "source": [
    "def clean_genre(text):\n",
    "    return text.strip().replace('\\r\\n', '').split(',')"
   ]
  },
  {
   "cell_type": "code",
   "execution_count": 328,
   "id": "9cda0e4a",
   "metadata": {},
   "outputs": [],
   "source": [
    "def clean_short_desc(text):\n",
    "    return text.strip().replace('\\r\\n', '')"
   ]
  },
  {
   "cell_type": "code",
   "execution_count": 329,
   "id": "4d07c31e",
   "metadata": {},
   "outputs": [],
   "source": [
    "def clean_rating(val):\n",
    "    return round(val, 2)"
   ]
  },
  {
   "cell_type": "code",
   "execution_count": 330,
   "id": "9e0409c7",
   "metadata": {},
   "outputs": [],
   "source": [
    "def clean_year(val):\n",
    "    val = val.replace('(', '').replace(')', '')\n",
    "    arr = val.split('-')\n",
    "    arr = [int(arr[0]), None] if arr[1] == '' else [int(arr[0]), int(arr[1])]\n",
    "    return arr"
   ]
  },
  {
   "cell_type": "code",
   "execution_count": 331,
   "id": "d041badb",
   "metadata": {},
   "outputs": [],
   "source": [
    "def clean_stars(text):\n",
    "    # Initialize dictionary\n",
    "    dict = {'Director': [], 'Stars': []}\n",
    "    \n",
    "    # Remove whitespaces & labels (Director, Stars)\n",
    "    removed_whitespace = text.strip().replace('\\r\\n', '').replace(' ', '')\n",
    "    removed_labels = removed_whitespace.replace('Director:', '').replace('Stars:', '')\n",
    "    \n",
    "    # Split Director and Stars\n",
    "    split_labels = removed_labels.split('|')\n",
    "    \n",
    "    # Split each element into an array\n",
    "    if len(split_labels) == 2:\n",
    "        dict.update({'Director': split_labels[0], 'Stars': split_labels[1]})\n",
    "        for i in dict:\n",
    "            dict[i] = dict[i].split(',')\n",
    "    else:\n",
    "        dict.update({'Director': split_labels[0], 'Stars': None})\n",
    "    \n",
    "        \n",
    "    return dict"
   ]
  },
  {
   "cell_type": "code",
   "execution_count": 335,
   "id": "61cd7205",
   "metadata": {},
   "outputs": [
    {
     "name": "stdout",
     "output_type": "stream",
     "text": [
      "{'Director': ['PeterThorwarth'], 'Stars': ['PeriBaumeister', 'CarlAntonKoch', 'AlexanderScheer', 'KaisSetti']}\n"
     ]
    }
   ],
   "source": [
    "test_text = \"\"\"    Director:\\r\\nPeter Thorwarth\\r\\n| \\r\\n    Stars:\\r\\nPeri Baumeister, \\r\\nCarl Anton Koch, \\r\\nAlexander Scheer, \\r\\nKais Setti\\r\\n\"\"\"\n",
    "print(clean_stars(test_text))"
   ]
  },
  {
   "cell_type": "code",
   "execution_count": 332,
   "id": "60c0174e",
   "metadata": {},
   "outputs": [
    {
     "name": "stderr",
     "output_type": "stream",
     "text": [
      "C:\\Users\\frasid\\AppData\\Local\\Temp\\ipykernel_5720\\3241001457.py:2: SettingWithCopyWarning: \n",
      "A value is trying to be set on a copy of a slice from a DataFrame.\n",
      "Try using .loc[row_indexer,col_indexer] = value instead\n",
      "\n",
      "See the caveats in the documentation: https://pandas.pydata.org/pandas-docs/stable/user_guide/indexing.html#returning-a-view-versus-a-copy\n",
      "  df_mis['Director'] = df_mis['Stars'].apply(clean_stars)\n"
     ]
    },
    {
     "data": {
      "text/html": [
       "<div>\n",
       "<style scoped>\n",
       "    .dataframe tbody tr th:only-of-type {\n",
       "        vertical-align: middle;\n",
       "    }\n",
       "\n",
       "    .dataframe tbody tr th {\n",
       "        vertical-align: top;\n",
       "    }\n",
       "\n",
       "    .dataframe thead th {\n",
       "        text-align: right;\n",
       "    }\n",
       "</style>\n",
       "<table border=\"1\" class=\"dataframe\">\n",
       "  <thead>\n",
       "    <tr style=\"text-align: right;\">\n",
       "      <th></th>\n",
       "      <th>Movies</th>\n",
       "      <th>Year</th>\n",
       "      <th>Genre</th>\n",
       "      <th>Rating</th>\n",
       "      <th>Short Desc</th>\n",
       "      <th>Stars</th>\n",
       "      <th>Votes</th>\n",
       "      <th>Run Time</th>\n",
       "      <th>Gross</th>\n",
       "      <th>Director</th>\n",
       "    </tr>\n",
       "  </thead>\n",
       "  <tbody>\n",
       "    <tr>\n",
       "      <th>0</th>\n",
       "      <td>Blood Red Sky</td>\n",
       "      <td>(2021)</td>\n",
       "      <td>\\r\\nAction, Horror, Thriller</td>\n",
       "      <td>6.100000</td>\n",
       "      <td>\\r\\nA woman with a mysterious illness is force...</td>\n",
       "      <td>\\r\\n    Director:\\r\\nPeter Thorwarth\\r\\n| \\r\\n...</td>\n",
       "      <td>21062.0</td>\n",
       "      <td>121.0</td>\n",
       "      <td>NaN</td>\n",
       "      <td>{'Director': ['PeterThorwarth'], 'Stars': ['Pe...</td>\n",
       "    </tr>\n",
       "    <tr>\n",
       "      <th>1</th>\n",
       "      <td>Masters of the Universe: Revelation</td>\n",
       "      <td>(2021– )</td>\n",
       "      <td>\\r\\nAnimation, Action, Adventure</td>\n",
       "      <td>5.000000</td>\n",
       "      <td>\\r\\nThe war for Eternia begins again in what m...</td>\n",
       "      <td>\\r\\n            \\r\\n    Stars:\\r\\nChris Wood, ...</td>\n",
       "      <td>17870.0</td>\n",
       "      <td>25.0</td>\n",
       "      <td>NaN</td>\n",
       "      <td>{'Director': 'ChrisWood,SarahMichelleGellar,Le...</td>\n",
       "    </tr>\n",
       "    <tr>\n",
       "      <th>2</th>\n",
       "      <td>The Walking Dead</td>\n",
       "      <td>(2010–2022)</td>\n",
       "      <td>\\r\\nDrama, Horror, Thriller</td>\n",
       "      <td>8.200000</td>\n",
       "      <td>\\r\\nSheriff Deputy Rick Grimes wakes up from a...</td>\n",
       "      <td>\\r\\n            \\r\\n    Stars:\\r\\nAndrew Linco...</td>\n",
       "      <td>885805.0</td>\n",
       "      <td>44.0</td>\n",
       "      <td>NaN</td>\n",
       "      <td>{'Director': 'AndrewLincoln,NormanReedus,Melis...</td>\n",
       "    </tr>\n",
       "    <tr>\n",
       "      <th>3</th>\n",
       "      <td>Rick and Morty</td>\n",
       "      <td>(2013– )</td>\n",
       "      <td>\\r\\nAnimation, Adventure, Comedy</td>\n",
       "      <td>9.200000</td>\n",
       "      <td>\\r\\nAn animated series that follows the exploi...</td>\n",
       "      <td>\\r\\n            \\r\\n    Stars:\\r\\nJustin Roila...</td>\n",
       "      <td>414849.0</td>\n",
       "      <td>23.0</td>\n",
       "      <td>NaN</td>\n",
       "      <td>{'Director': 'JustinRoiland,ChrisParnell,Spenc...</td>\n",
       "    </tr>\n",
       "    <tr>\n",
       "      <th>4</th>\n",
       "      <td>Army of Thieves</td>\n",
       "      <td>(2021)</td>\n",
       "      <td>\\r\\nAction, Crime, Horror</td>\n",
       "      <td>6.919699</td>\n",
       "      <td>\\r\\nA prequel, set before the events of Army o...</td>\n",
       "      <td>\\r\\n    Director:\\r\\nMatthias Schweighöfer\\r\\n...</td>\n",
       "      <td>15144.414422</td>\n",
       "      <td>NaN</td>\n",
       "      <td>NaN</td>\n",
       "      <td>{'Director': ['MatthiasSchweighöfer'], 'Stars'...</td>\n",
       "    </tr>\n",
       "  </tbody>\n",
       "</table>\n",
       "</div>"
      ],
      "text/plain": [
       "                                Movies         Year  \\\n",
       "0                        Blood Red Sky       (2021)   \n",
       "1  Masters of the Universe: Revelation     (2021– )   \n",
       "2                     The Walking Dead  (2010–2022)   \n",
       "3                       Rick and Morty     (2013– )   \n",
       "4                      Army of Thieves       (2021)   \n",
       "\n",
       "                                          Genre    Rating  \\\n",
       "0      \\r\\nAction, Horror, Thriller              6.100000   \n",
       "1  \\r\\nAnimation, Action, Adventure              5.000000   \n",
       "2       \\r\\nDrama, Horror, Thriller              8.200000   \n",
       "3  \\r\\nAnimation, Adventure, Comedy              9.200000   \n",
       "4         \\r\\nAction, Crime, Horror              6.919699   \n",
       "\n",
       "                                          Short Desc  \\\n",
       "0  \\r\\nA woman with a mysterious illness is force...   \n",
       "1  \\r\\nThe war for Eternia begins again in what m...   \n",
       "2  \\r\\nSheriff Deputy Rick Grimes wakes up from a...   \n",
       "3  \\r\\nAn animated series that follows the exploi...   \n",
       "4  \\r\\nA prequel, set before the events of Army o...   \n",
       "\n",
       "                                               Stars         Votes  Run Time  \\\n",
       "0  \\r\\n    Director:\\r\\nPeter Thorwarth\\r\\n| \\r\\n...       21062.0     121.0   \n",
       "1  \\r\\n            \\r\\n    Stars:\\r\\nChris Wood, ...       17870.0      25.0   \n",
       "2  \\r\\n            \\r\\n    Stars:\\r\\nAndrew Linco...      885805.0      44.0   \n",
       "3  \\r\\n            \\r\\n    Stars:\\r\\nJustin Roila...      414849.0      23.0   \n",
       "4  \\r\\n    Director:\\r\\nMatthias Schweighöfer\\r\\n...  15144.414422       NaN   \n",
       "\n",
       "  Gross                                           Director  \n",
       "0   NaN  {'Director': ['PeterThorwarth'], 'Stars': ['Pe...  \n",
       "1   NaN  {'Director': 'ChrisWood,SarahMichelleGellar,Le...  \n",
       "2   NaN  {'Director': 'AndrewLincoln,NormanReedus,Melis...  \n",
       "3   NaN  {'Director': 'JustinRoiland,ChrisParnell,Spenc...  \n",
       "4   NaN  {'Director': ['MatthiasSchweighöfer'], 'Stars'...  "
      ]
     },
     "metadata": {},
     "output_type": "display_data"
    }
   ],
   "source": [
    "# {'Director': ['Person A', ..., 'Person N'], 'Stars': ['Person C', ... , 'Person M']}\n",
    "df_mis['Director'] = df_mis['Stars'].apply(clean_stars)\n",
    "display(df_mis.head())"
   ]
  },
  {
   "cell_type": "code",
   "execution_count": 333,
   "id": "314b97a5",
   "metadata": {},
   "outputs": [],
   "source": [
    "df_mis.loc[:, 'Stars'] = df_mis['Stars'].apply(clean_stars)"
   ]
  },
  {
   "cell_type": "code",
   "execution_count": 334,
   "id": "934d4b67",
   "metadata": {},
   "outputs": [
    {
     "data": {
      "text/html": [
       "<div>\n",
       "<style scoped>\n",
       "    .dataframe tbody tr th:only-of-type {\n",
       "        vertical-align: middle;\n",
       "    }\n",
       "\n",
       "    .dataframe tbody tr th {\n",
       "        vertical-align: top;\n",
       "    }\n",
       "\n",
       "    .dataframe thead th {\n",
       "        text-align: right;\n",
       "    }\n",
       "</style>\n",
       "<table border=\"1\" class=\"dataframe\">\n",
       "  <thead>\n",
       "    <tr style=\"text-align: right;\">\n",
       "      <th></th>\n",
       "      <th>Movies</th>\n",
       "      <th>Year</th>\n",
       "      <th>Genre</th>\n",
       "      <th>Rating</th>\n",
       "      <th>Short Desc</th>\n",
       "      <th>Stars</th>\n",
       "      <th>Votes</th>\n",
       "      <th>Run Time</th>\n",
       "      <th>Gross</th>\n",
       "      <th>Director</th>\n",
       "    </tr>\n",
       "  </thead>\n",
       "  <tbody>\n",
       "    <tr>\n",
       "      <th>0</th>\n",
       "      <td>Blood Red Sky</td>\n",
       "      <td>(2021)</td>\n",
       "      <td>\\r\\nAction, Horror, Thriller</td>\n",
       "      <td>6.100000</td>\n",
       "      <td>\\r\\nA woman with a mysterious illness is force...</td>\n",
       "      <td>{'Director': ['PeterThorwarth'], 'Stars': ['Pe...</td>\n",
       "      <td>21062.0</td>\n",
       "      <td>121.0</td>\n",
       "      <td>NaN</td>\n",
       "      <td>{'Director': ['PeterThorwarth'], 'Stars': ['Pe...</td>\n",
       "    </tr>\n",
       "    <tr>\n",
       "      <th>1</th>\n",
       "      <td>Masters of the Universe: Revelation</td>\n",
       "      <td>(2021– )</td>\n",
       "      <td>\\r\\nAnimation, Action, Adventure</td>\n",
       "      <td>5.000000</td>\n",
       "      <td>\\r\\nThe war for Eternia begins again in what m...</td>\n",
       "      <td>{'Director': 'ChrisWood,SarahMichelleGellar,Le...</td>\n",
       "      <td>17870.0</td>\n",
       "      <td>25.0</td>\n",
       "      <td>NaN</td>\n",
       "      <td>{'Director': 'ChrisWood,SarahMichelleGellar,Le...</td>\n",
       "    </tr>\n",
       "    <tr>\n",
       "      <th>2</th>\n",
       "      <td>The Walking Dead</td>\n",
       "      <td>(2010–2022)</td>\n",
       "      <td>\\r\\nDrama, Horror, Thriller</td>\n",
       "      <td>8.200000</td>\n",
       "      <td>\\r\\nSheriff Deputy Rick Grimes wakes up from a...</td>\n",
       "      <td>{'Director': 'AndrewLincoln,NormanReedus,Melis...</td>\n",
       "      <td>885805.0</td>\n",
       "      <td>44.0</td>\n",
       "      <td>NaN</td>\n",
       "      <td>{'Director': 'AndrewLincoln,NormanReedus,Melis...</td>\n",
       "    </tr>\n",
       "    <tr>\n",
       "      <th>3</th>\n",
       "      <td>Rick and Morty</td>\n",
       "      <td>(2013– )</td>\n",
       "      <td>\\r\\nAnimation, Adventure, Comedy</td>\n",
       "      <td>9.200000</td>\n",
       "      <td>\\r\\nAn animated series that follows the exploi...</td>\n",
       "      <td>{'Director': 'JustinRoiland,ChrisParnell,Spenc...</td>\n",
       "      <td>414849.0</td>\n",
       "      <td>23.0</td>\n",
       "      <td>NaN</td>\n",
       "      <td>{'Director': 'JustinRoiland,ChrisParnell,Spenc...</td>\n",
       "    </tr>\n",
       "    <tr>\n",
       "      <th>4</th>\n",
       "      <td>Army of Thieves</td>\n",
       "      <td>(2021)</td>\n",
       "      <td>\\r\\nAction, Crime, Horror</td>\n",
       "      <td>6.919699</td>\n",
       "      <td>\\r\\nA prequel, set before the events of Army o...</td>\n",
       "      <td>{'Director': ['MatthiasSchweighöfer'], 'Stars'...</td>\n",
       "      <td>15144.414422</td>\n",
       "      <td>NaN</td>\n",
       "      <td>NaN</td>\n",
       "      <td>{'Director': ['MatthiasSchweighöfer'], 'Stars'...</td>\n",
       "    </tr>\n",
       "  </tbody>\n",
       "</table>\n",
       "</div>"
      ],
      "text/plain": [
       "                                Movies         Year  \\\n",
       "0                        Blood Red Sky       (2021)   \n",
       "1  Masters of the Universe: Revelation     (2021– )   \n",
       "2                     The Walking Dead  (2010–2022)   \n",
       "3                       Rick and Morty     (2013– )   \n",
       "4                      Army of Thieves       (2021)   \n",
       "\n",
       "                                          Genre    Rating  \\\n",
       "0      \\r\\nAction, Horror, Thriller              6.100000   \n",
       "1  \\r\\nAnimation, Action, Adventure              5.000000   \n",
       "2       \\r\\nDrama, Horror, Thriller              8.200000   \n",
       "3  \\r\\nAnimation, Adventure, Comedy              9.200000   \n",
       "4         \\r\\nAction, Crime, Horror              6.919699   \n",
       "\n",
       "                                          Short Desc  \\\n",
       "0  \\r\\nA woman with a mysterious illness is force...   \n",
       "1  \\r\\nThe war for Eternia begins again in what m...   \n",
       "2  \\r\\nSheriff Deputy Rick Grimes wakes up from a...   \n",
       "3  \\r\\nAn animated series that follows the exploi...   \n",
       "4  \\r\\nA prequel, set before the events of Army o...   \n",
       "\n",
       "                                               Stars         Votes  Run Time  \\\n",
       "0  {'Director': ['PeterThorwarth'], 'Stars': ['Pe...       21062.0     121.0   \n",
       "1  {'Director': 'ChrisWood,SarahMichelleGellar,Le...       17870.0      25.0   \n",
       "2  {'Director': 'AndrewLincoln,NormanReedus,Melis...      885805.0      44.0   \n",
       "3  {'Director': 'JustinRoiland,ChrisParnell,Spenc...      414849.0      23.0   \n",
       "4  {'Director': ['MatthiasSchweighöfer'], 'Stars'...  15144.414422       NaN   \n",
       "\n",
       "  Gross                                           Director  \n",
       "0   NaN  {'Director': ['PeterThorwarth'], 'Stars': ['Pe...  \n",
       "1   NaN  {'Director': 'ChrisWood,SarahMichelleGellar,Le...  \n",
       "2   NaN  {'Director': 'AndrewLincoln,NormanReedus,Melis...  \n",
       "3   NaN  {'Director': 'JustinRoiland,ChrisParnell,Spenc...  \n",
       "4   NaN  {'Director': ['MatthiasSchweighöfer'], 'Stars'...  "
      ]
     },
     "metadata": {},
     "output_type": "display_data"
    }
   ],
   "source": [
    "display(df_mis.head())"
   ]
  },
  {
   "cell_type": "markdown",
   "id": "5a1b0f57",
   "metadata": {},
   "source": [
    "### Handling Outliers"
   ]
  },
  {
   "cell_type": "markdown",
   "id": "26f09cb8",
   "metadata": {},
   "source": [
    "### Filtering Irrelevant Data"
   ]
  },
  {
   "cell_type": "markdown",
   "id": "5b53a33f",
   "metadata": {},
   "source": [
    "### Validating Data Consistency"
   ]
  }
 ],
 "metadata": {
  "kernelspec": {
   "display_name": ".venv",
   "language": "python",
   "name": "python3"
  },
  "language_info": {
   "codemirror_mode": {
    "name": "ipython",
    "version": 3
   },
   "file_extension": ".py",
   "mimetype": "text/x-python",
   "name": "python",
   "nbconvert_exporter": "python",
   "pygments_lexer": "ipython3",
   "version": "3.13.3"
  }
 },
 "nbformat": 4,
 "nbformat_minor": 5
}
